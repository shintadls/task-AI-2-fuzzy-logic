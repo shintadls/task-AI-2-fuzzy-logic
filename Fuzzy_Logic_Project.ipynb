{
  "cells": [
    {
      "cell_type": "code",
      "source": [
        "import pandas as pd\n",
        "import warnings\n",
        "\n",
        "warnings.filterwarnings(\"ignore\")\n",
        "\n",
        "def read_excel(path, sheet_target):\n",
        "    data = pd.read_excel(path, sheet_name=sheet_target)\n",
        "    return data.to_dict('record')\n",
        "\n",
        "def output_xlsx(data_final, filename):\n",
        "    df = pd.DataFrame(data_final, columns=[\"ID\", \"Service\", \"Price\" ,\"Defuzz\"])\n",
        "    try:\n",
        "        df.to_excel(f'{filename}.xlsx')\n",
        "        print(f\"File saved as : {filename}.xlsx\")\n",
        "    except IOError:\n",
        "        print(\"Could not open file! Please close Excel!\")\n",
        "    "
      ],
      "metadata": {
        "id": "qW2a9v8LXodF"
      },
      "execution_count": null,
      "outputs": []
    },
    {
      "cell_type": "code",
      "source": [
        "def fuzz(n, data, fuzz_setting):\n",
        "  choose = fuzz_setting['Method']\n",
        "  final_data = []\n",
        "  for i in range(0, n):\n",
        "    low_fuzz = 0\n",
        "    avg_fuzz = 0\n",
        "    high_fuzz = 0\n",
        "    # low\n",
        "    if(data[i][choose] > fuzz_setting['low_top'] and data[i][choose] <= fuzz_setting['low_bot']):\n",
        "      low_fuzz = abs(data[i][choose] - fuzz_setting['low_bot'])/abs(fuzz_setting['low_top']-fuzz_setting['low_bot'])\n",
        "    elif(data[i][choose] <= fuzz_setting['low_top']) : low_fuzz = 1\n",
        "    # avg\n",
        "    if(data[i][choose] > fuzz_setting['avg_bot_left'] and data[i][choose] <= fuzz_setting['avg_top_left']):\n",
        "      avg_fuzz = abs(data[i][choose] - fuzz_setting['avg_bot_left'])/abs(fuzz_setting['avg_bot_left']-fuzz_setting['avg_top_left'])\n",
        "    elif(data[i][choose] > fuzz_setting['avg_top_left'] and data[i][choose] < fuzz_setting['avg_top_right']) : avg_fuzz = 1\n",
        "    elif(data[i][choose] > fuzz_setting['avg_top_right'] and data[i][choose] <= fuzz_setting['avg_bot_right']) :\n",
        "      avg_fuzz = abs(data[i][choose] - fuzz_setting['avg_bot_right'])/abs(fuzz_setting['avg_bot_right']-fuzz_setting['avg_top_right'])\n",
        "    # low\n",
        "    if(data[i][choose] > fuzz_setting['high_bot'] and data[i][choose] <= fuzz_setting['high_top']):\n",
        "      high_fuzz = abs(data[i][choose] - fuzz_setting['high_bot'])/abs(fuzz_setting['high_top']-fuzz_setting['high_bot'])\n",
        "    elif(data[i][choose] > fuzz_setting['high_top']) : high_fuzz = 1\n",
        "    final = {'ID': data[i]['ID'], 'Low': low_fuzz, 'Average': avg_fuzz, 'High': high_fuzz}\n",
        "    final_data.append(final)\n",
        "  return final_data\n",
        "\n",
        "def inference(n, fuzz_service, fuzz_price, inference_setting):\n",
        "    inference_array = []\n",
        "    for i in range(0,n):\n",
        "        reject = []\n",
        "        consider = []\n",
        "        accept = []\n",
        "        for j in inference_setting:\n",
        "            if(j['Status'] == \"Rejected\"):\n",
        "                take_minimum = min(fuzz_service[i][j['Service']], fuzz_price[i][j['Price']])\n",
        "                reject.append(take_minimum)\n",
        "            elif(j['Status'] == \"Considered\"):\n",
        "                take_minimum = min(fuzz_service[i][j['Service']], fuzz_price[i][j['Price']])\n",
        "                consider.append(take_minimum)\n",
        "            elif(j['Status'] == \"Accepted\"):\n",
        "                take_minimum = min(fuzz_service[i][j['Service']], fuzz_price[i][j['Price']])\n",
        "                accept.append(take_minimum)\n",
        "        result = {'ID': fuzz_service[i]['ID'], 'Rejected': max(reject), 'Considered': max(consider), 'Accepted': max(accept)}\n",
        "        inference_array.append(result)\n",
        "    return inference_array\n",
        "\n",
        "def defuzz(sugeno, inference_data):\n",
        "  defuzz_arr = []\n",
        "  for i in inference_data:\n",
        "    y = (i['Rejected'] * sugeno[0]) + (i['Considered']*sugeno[1]) + (i['Accepted']*sugeno[2]) / (i['Rejected'] + i['Considered'] + i['Accepted'] + 0.00000001)\n",
        "    final = {'ID': i['ID'], 'Defuzz': y}\n",
        "    defuzz_arr.append(final)\n",
        "  return defuzz_arr\n",
        "\n",
        "def bestof10(defuzz_data):\n",
        "  final = sorted(defuzz_data, key=lambda i: i['Defuzz'], reverse=True)[0:10]\n",
        "  for i in range(0,10):\n",
        "    a = final[i]['ID']\n",
        "    final[i] = {'ID': final[i]['ID'], 'Service': read_data[a-1]['Service'], 'Price': read_data[a-1]['Price'] ,'Defuzz': final[i]['Defuzz']}\n",
        "  return final\n",
        "\n",
        "def savefile(final_data):\n",
        "    name = input(\"Choose filename : \")\n",
        "    sort = input(\"Sort by ID or Defuzz? \")\n",
        "    final_data = sorted(defuzz_data, key=lambda i: i['Defuzz'])\n",
        "    if(sort == \"ID\"): final_data = sorted(defuzz_data, key=lambda i: i['ID'])\n",
        "    elif(sort != \"Defuzz\") : print(\"Sorted by Defuzz by default\")\n",
        "    output_xlsx(finale, name)\n"
      ],
      "metadata": {
        "id": "xSCFbhfLZjmB"
      },
      "execution_count": null,
      "outputs": []
    },
    {
      "cell_type": "code",
      "source": [
        "# Program Setting\n",
        "\"\"\"\n",
        "#OLD\n",
        "service = {'low_top': 10, 'low_bot': 30, 'avg_top_left' : 30, 'avg_bot_left': 10, \n",
        "           'avg_top_right': 60, 'avg_bot_right': 80, 'high_top': 85, 'high_bot': 60, 'Method': 'Service'}\n",
        "\n",
        "price = {'low_top': 1, 'low_bot': 3, 'avg_top_left' : 3, 'avg_bot_left': 1, \n",
        "           'avg_top_right': 6, 'avg_bot_right': 8, 'high_top': 8.5, 'high_bot': 6, 'Method': 'Price'}\n",
        "\"\"\"\n",
        "#NEW\n",
        "service = {'low_top': 20, 'low_bot': 45, 'avg_top_left' : 55, 'avg_bot_left': 30, \n",
        "           'avg_top_right': 70, 'avg_bot_right': 75, 'high_top': 80, 'high_bot': 60, 'Method': 'Service'}\n",
        "\n",
        "price = {'low_top': 2.0, 'low_bot': 4.0, 'avg_top_left' : 5, 'avg_bot_left': 3, \n",
        "           'avg_top_right': 7.0, 'avg_bot_right': 8.0, 'high_top': 9.0, 'high_bot': 6, 'Method': 'Price'}\n",
        "\n",
        "#OLD\n",
        "inference_setting = [ \n",
        "{'Service': 'Low', 'Price': 'Low', 'Status': 'Rejected'}, {'Service': 'Low', 'Price': 'Average', 'Status': 'Rejected'}, {'Service': 'Low', 'Price': 'High', 'Status': 'Rejected'},\n",
        "{'Service': 'Average', 'Price': 'Low', 'Status': 'Considered'}, {'Service': 'Average', 'Price': 'Average', 'Status': 'Considered'}, {'Service': 'Average', 'Price': 'High', 'Status': 'Rejected'},\n",
        "{'Service': 'High', 'Price': 'Low', 'Status': 'Accepted'}, {'Service': 'High', 'Price': 'Average', 'Status': 'Accepted'}, {'Service': 'High', 'Price': 'High', 'Status': 'Considered'}]\n",
        "\"\"\"\n",
        "#NEW\n",
        "inference_setting = [\n",
        "{'Price' : 'Low', 'Service': 'Low', 'Status': 'Rejected'}, {'Price' : 'Low', 'Service': 'Average', 'Status': 'Accepted'}, {'Price' : 'Low', 'Service': 'High', 'Status': 'Accepted'},\n",
        "{'Price' : 'Average', 'Service': 'Low', 'Status': 'Rejected'}, {'Price' : 'Average', 'Service': 'Average', 'Status': 'Considered'}, {'Price' : 'Average', 'Service': 'High', 'Status': 'Accepted'},\n",
        "{'Price' : 'High', 'Service': 'Low', 'Status': 'Rejected'}, {'Price' : 'High', 'Service': 'Average', 'Status': 'Considered'}, {'Price' : 'High', 'Service': 'High', 'Status': 'Considered'}\n",
        "]\n",
        "\"\"\"\n",
        "\n",
        "sugeno = [50, 65, 80]"
      ],
      "metadata": {
        "id": "EQ-ws_DN4mw4"
      },
      "execution_count": null,
      "outputs": []
    },
    {
      "cell_type": "code",
      "source": [
        "# Main\n",
        "\n",
        "read_data = read_excel('bengkel.xlsx', 'Sheet1')\n",
        "\n",
        "length = len(read_data)\n",
        "\n",
        "fuzz_service = fuzz(length, read_data, service)\n",
        "fuzz_price = fuzz(length, read_data, price)\n",
        "\n",
        "inference_data = inference(length, fuzz_service, fuzz_price, inference_setting)\n",
        "\n",
        "defuzz_data = defuzz(sugeno, inference_data)\n",
        "\n",
        "finale = bestof10(defuzz_data)\n",
        "finale = sorted(finale, key=lambda i: i['ID'])\n",
        "print(\"\\n-----The Result-----\")\n",
        "for i in finale:\n",
        "    i = {'ID': i['ID'], 'Service': i['Service'], 'Price': i['Price'],'Defuzz': i['Defuzz']}\n",
        "    print(i)\n",
        "\n",
        "savefile(finale)"
      ],
      "metadata": {
        "id": "hogNGBjSfpsJ",
        "outputId": "95760a61-672e-4a0d-90c0-528063dfe33d",
        "colab": {
          "base_uri": "https://localhost:8080/"
        }
      },
      "execution_count": null,
      "outputs": [
        {
          "output_type": "stream",
          "name": "stdout",
          "text": [
            "\n",
            "-----The Result-----\n",
            "{'ID': 3, 'Service': 98, 'Price': 2, 'Defuzz': 79.99999920000002}\n",
            "{'ID': 13, 'Service': 80, 'Price': 3, 'Defuzz': 79.99999840000002}\n",
            "{'ID': 15, 'Service': 78, 'Price': 5, 'Defuzz': 79.99999911111111}\n",
            "{'ID': 16, 'Service': 82, 'Price': 6, 'Defuzz': 79.99999920000002}\n",
            "{'ID': 17, 'Service': 70, 'Price': 3, 'Defuzz': 79.99999840000002}\n",
            "{'ID': 34, 'Service': 93, 'Price': 4, 'Defuzz': 79.99999840000002}\n",
            "{'ID': 52, 'Service': 94, 'Price': 3, 'Defuzz': 79.99999840000002}\n",
            "{'ID': 60, 'Service': 79, 'Price': 6, 'Defuzz': 79.99999915789475}\n",
            "{'ID': 91, 'Service': 98, 'Price': 3, 'Defuzz': 79.99999840000002}\n",
            "{'ID': 92, 'Service': 83, 'Price': 3, 'Defuzz': 79.99999840000002}\n",
            "Choose filename : ranking\n",
            "Sort by ID or Defuzz? ID\n",
            "File saved as : ranking.xlsx\n"
          ]
        }
      ]
    },
    {
      "cell_type": "markdown",
      "source": [
        "Don't forget run all of them!!!"
      ],
      "metadata": {
        "id": "B3wl8m15Ybgq"
      }
    }
  ],
  "metadata": {
    "colab": {
      "collapsed_sections": [],
      "name": "Fuzzy Logic Project",
      "provenance": [],
      "toc_visible": true
    },
    "kernelspec": {
      "display_name": "Python 3",
      "name": "python3"
    }
  },
  "nbformat": 4,
  "nbformat_minor": 0
}